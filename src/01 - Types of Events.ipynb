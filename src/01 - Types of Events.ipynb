{
 "cells": [
  {
   "cell_type": "markdown",
   "id": "460cb7c6-5a1c-477a-9593-220e8698dfdd",
   "metadata": {
    "editable": true,
    "slideshow": {
     "slide_type": ""
    },
    "tags": []
   },
   "source": [
    "<center>    \n",
    "    <h1 id='conditional-probability-notebook-1' style='color:#7159c1; font-size:350%'>Types of Events</h1>\n",
    "    <i style='font-size:125%'>Calculating Probabilities Through Conditions</i>\n",
    "</center>\n",
    "\n",
    "> **Topics**\n",
    "\n",
    "```\n",
    "- ❌ Mutually Exclusive Events\n",
    "- 🎨 Non-Mutually Exclusive Events\n",
    "- 🏝️ Independent Events\n",
    "- 🫧 Dependent Events\n",
    "```"
   ]
  },
  {
   "cell_type": "code",
   "execution_count": 1,
   "id": "ea4c34db-b5ab-402d-9d0e-5ae69cda9563",
   "metadata": {
    "editable": true,
    "slideshow": {
     "slide_type": ""
    },
    "tags": []
   },
   "outputs": [],
   "source": [
    "# ---- Imports ----\n",
    "import numpy as np\n",
    "from IPython.display import HTML\n",
    "\n",
    "# ---- Constants ----\n",
    "VIDEOS_WIDTH = (600)\n",
    "VIDEOS_PATH = ('./videos')\n",
    "\n",
    "# ---- Functions ----\n",
    "def generateVideoEmbed(path, width):\n",
    "    \"\"\"\n",
    "    Generates a string containing a centered video tag with a specific width and video source.\n",
    "\n",
    "    - Input:\n",
    "        / path: string;\n",
    "        / width: float.\n",
    "\n",
    "    - Output:\n",
    "        / video_tag: string.\n",
    "    \"\"\"\n",
    "    video_tag = f'<center><video width=\"{width}\" autoplay controls loop><source src=\"{path}\" type=\"video/mp4\" />Your browser does not support the video tag 😢</video></center>'\n",
    "    return video_tag"
   ]
  },
  {
   "cell_type": "markdown",
   "id": "6e017ecf-6952-4382-812e-b0a1d0eb9faa",
   "metadata": {},
   "source": [
    "<h1 id='0-mutually-exclusive-events' style='color:#7159c1; border-bottom:3px solid #7159c1; letter-spacing:2px; font-family:JetBrains Mono; font-weight: bold; text-align:left; font-size:240%;padding:0'>❌ | Mutually Exclusive Events</h1>\n",
    "\n",
    "`Mutually Exclusive Events` are events where is impossible to occur simultaneously or right after the occurrence of one of them. Besides, since they cannot occur together, the intersection is always an empty set, that is, the probability is zero!\n",
    "\n",
    "- **Union (∪):** $\\quad \\mathbf{P}(\\mathbf{A} \\cup \\mathbf{B}) = \\mathbf{P}(\\mathbf{A}) + \\mathbf{P}(\\mathbf{B})$\n",
    "\n",
    "- **Intersection (∩):** $\\quad \\mathbf{P}(\\mathbf{A} \\cap \\mathbf{B}) = 0$"
   ]
  },
  {
   "cell_type": "code",
   "execution_count": 3,
   "id": "54a74028-74fc-4b3a-9eea-3c18da4829f6",
   "metadata": {},
   "outputs": [
    {
     "name": "stdout",
     "output_type": "stream",
     "text": [
      "- Set A: {0, 1, 2}\n",
      "- Set B: {5, 6, 7}\n",
      "- Union (A ∪ B): {0, 1, 2, 5, 6, 7}\n",
      "- Intersection (A ∩ B): set()\n"
     ]
    }
   ],
   "source": [
    "# ---- Mutually Exclusive Events: Sets ----\n",
    "A = {0, 1, 2}\n",
    "B = {5, 6, 7}\n",
    "union = A.union(B)\n",
    "intersection = A.intersection(B)\n",
    "\n",
    "print(f'- Set A: {A}')\n",
    "print(f'- Set B: {B}')\n",
    "print(f'- Union (A ∪ B): {union}')\n",
    "print(f'- Intersection (A ∩ B): {intersection}')"
   ]
  },
  {
   "cell_type": "code",
   "execution_count": 2,
   "id": "b01bb03a-27e4-49bb-a40d-f9354491d017",
   "metadata": {},
   "outputs": [
    {
     "data": {
      "text/html": [
       "<center><video width=\"600\" autoplay controls loop><source src=\"./videos/07-MutuallyExclusiveEvents.mp4\" type=\"video/mp4\" />Your browser does not support the video tag 😢</video></center>"
      ],
      "text/plain": [
       "<IPython.core.display.HTML object>"
      ]
     },
     "execution_count": 2,
     "metadata": {},
     "output_type": "execute_result"
    }
   ],
   "source": [
    "# ---- Mutually Exclusive Events: Visualization ----\n",
    "HTML(generateVideoEmbed(f'{VIDEOS_PATH}/07-MutuallyExclusiveEvents.mp4', VIDEOS_WIDTH))"
   ]
  },
  {
   "cell_type": "markdown",
   "id": "07571475-7545-4686-8600-6ae69c560585",
   "metadata": {},
   "source": [
    "<h1 id='1-non-mutually-exclusive-events' style='color:#7159c1; border-bottom:3px solid #7159c1; letter-spacing:2px; font-family:JetBrains Mono; font-weight: bold; text-align:left; font-size:240%;padding:0'>🎨 | Non-Mutually Exclusive Events</h1>\n",
    "\n",
    "`Non-Mutually Exclusive Events` are events that can occur simultaneously or right after the occurrence of one of them. Since their intersection can vary whether the events are Dependents or Independents, we will explore the Union only in this section.\n",
    "\n",
    "- **Union (∪):** $\\quad \\mathbf{P}(\\mathbf{A} \\cup \\mathbf{B}) = \\mathbf{P}(\\mathbf{A}) + \\mathbf{P}(\\mathbf{B}) - \\mathbf{P}(\\mathbf{A} \\cap \\mathbf{B})$\n",
    "\n",
    "**OBS.:** it is needed to subtract by the intersection of the events in order to don't consider intersection area twice in the calculation. Watch the video below about Venn Diagram in order to get a glimpse about what I am talking about here!!"
   ]
  },
  {
   "cell_type": "code",
   "execution_count": 5,
   "id": "d85dc170-c85d-4f81-949a-62b11cd7a5cc",
   "metadata": {},
   "outputs": [
    {
     "name": "stdout",
     "output_type": "stream",
     "text": [
      "- Set A: {0, 1, 2, 3, 4}\n",
      "- Set B: {3, 4, 5, 6, 7}\n",
      "- Union (A ∪ B): {0, 1, 2, 3, 4, 5, 6, 7}\n"
     ]
    }
   ],
   "source": [
    "# ---- Non-Mutually Exclusive Events: Sets ----\n",
    "A = {0, 1, 2, 3, 4}\n",
    "B = {3, 4, 5, 6, 7}\n",
    "union = A.union(B)\n",
    "\n",
    "print(f'- Set A: {A}')\n",
    "print(f'- Set B: {B}')\n",
    "print(f'- Union (A ∪ B): {union}')"
   ]
  },
  {
   "cell_type": "code",
   "execution_count": 4,
   "id": "3fb9b9ff-1906-423d-a9cd-7608ee276bae",
   "metadata": {},
   "outputs": [
    {
     "data": {
      "text/html": [
       "<center><video width=\"600\" autoplay controls loop><source src=\"./videos/08-NonMutuallyExclusiveEvents.mp4\" type=\"video/mp4\" />Your browser does not support the video tag 😢</video></center>"
      ],
      "text/plain": [
       "<IPython.core.display.HTML object>"
      ]
     },
     "execution_count": 4,
     "metadata": {},
     "output_type": "execute_result"
    }
   ],
   "source": [
    "# ---- Non-Mutually Exclusive Events: Visualization ----\n",
    "HTML(generateVideoEmbed(f'{VIDEOS_PATH}/08-NonMutuallyExclusiveEvents.mp4', VIDEOS_WIDTH))"
   ]
  },
  {
   "cell_type": "markdown",
   "id": "4927beb4-ed72-4cfa-b333-3ab35c48434c",
   "metadata": {},
   "source": [
    "<h1 id='2-independent-events' style='color:#7159c1; border-bottom:3px solid #7159c1; letter-spacing:2px; font-family:JetBrains Mono; font-weight: bold; text-align:left; font-size:240%;padding:0'>🏝️ | Independent Events</h1>\n",
    "\n",
    "`Independent Events` are events that don't interfere of the occurrence of each other. For instance, the occurrence of event A does not interfere of the occurrence of event B, and vice-versa. Since all Independent Events are `Non-Mutually Exclusive Events`, there's no need to show the Union operator, because it has already been shown in the previous section.\n",
    "\n",
    "- **Intersection (∩):** $\\quad \\mathbf{P}(\\mathbf{A} \\cap \\mathbf{B}) = \\mathbf{P}(\\mathbf{A}) \\cdot \\mathbf{P}(\\mathbf{B})$"
   ]
  },
  {
   "cell_type": "code",
   "execution_count": 8,
   "id": "72ec31d3-9834-4722-b71c-715c0437c759",
   "metadata": {},
   "outputs": [
    {
     "name": "stdout",
     "output_type": "stream",
     "text": [
      "- Set A: {0, 1, 2, 3, 4}\n",
      "- Set B: {3, 4, 5, 6, 7}\n",
      "- Intersection (A ∩ B): {3, 4}\n"
     ]
    }
   ],
   "source": [
    "# ---- Independent Events: Sets ----\n",
    "A = {0, 1, 2, 3, 4}\n",
    "B = {3, 4, 5, 6, 7}\n",
    "intersection = A.intersection(B)\n",
    "\n",
    "print(f'- Set A: {A}')\n",
    "print(f'- Set B: {B}')\n",
    "print(f'- Intersection (A ∩ B): {intersection}')"
   ]
  },
  {
   "cell_type": "code",
   "execution_count": 6,
   "id": "07b13060-c173-44e9-b300-4621eb8675bf",
   "metadata": {},
   "outputs": [
    {
     "data": {
      "text/html": [
       "<center><video width=\"600\" autoplay controls loop><source src=\"./videos/09-IndependentEvents.mp4\" type=\"video/mp4\" />Your browser does not support the video tag 😢</video></center>"
      ],
      "text/plain": [
       "<IPython.core.display.HTML object>"
      ]
     },
     "execution_count": 6,
     "metadata": {},
     "output_type": "execute_result"
    }
   ],
   "source": [
    "# ---- Independent Events: Visualization ----\n",
    "HTML(generateVideoEmbed(f'{VIDEOS_PATH}/09-IndependentEvents.mp4', VIDEOS_WIDTH))"
   ]
  },
  {
   "cell_type": "markdown",
   "id": "408f706a-caa7-46c2-aed1-1bd995f9206a",
   "metadata": {},
   "source": [
    "<h1 id='3-dependent-events' style='color:#7159c1; border-bottom:3px solid #7159c1; letter-spacing:2px; font-family:JetBrains Mono; font-weight: bold; text-align:left; font-size:240%;padding:0'>🫧 | Dependent Events</h1>\n",
    "\n",
    "`Dependent Events` are events that interfere of the occurrence of each other. For instance, the occurrence of event A interferes of the occurrence of event B, and vice-versa. Since all Dependent Events are `Non-Mutually Exclusive Events`, there's no need to show the Union operator, because it has already been shown in the `Non-Mutually Exclusive Events` section.\n",
    "\n",
    "- **Intersection (∩):** $\\quad \\mathbf{P}(\\mathbf{A} \\cap \\mathbf{B}) = \\mathbf{P}(\\mathbf{A}) \\cdot \\mathbf{P}(\\mathbf{B} \\cap \\mathbf{A} | \\mathbf{A}) \\quad$ or $\\quad \\mathbf{P}(\\mathbf{A} \\cap \\mathbf{B}) = \\mathbf{P}(\\mathbf{A}) \\cdot \\mathbf{P}(\\mathbf{B}| \\mathbf{A})$\n",
    "\n",
    "**OBS.:** in the equations above, we're calculating the intersection considering the probability of event B happening given event A has happened, that is, considering the interference of event A's occurrence to event B's occurrence!!"
   ]
  },
  {
   "cell_type": "code",
   "execution_count": 10,
   "id": "b6308a83-b8be-452c-8e24-7d5eedab7b95",
   "metadata": {},
   "outputs": [
    {
     "name": "stdout",
     "output_type": "stream",
     "text": [
      "- Set A: {0, 1, 2, 3, 4}\n",
      "- Set B: {3, 4, 5, 6, 7}\n",
      "- Intersection (A ∩ B): {3, 4}\n"
     ]
    }
   ],
   "source": [
    "# ---- Dependent Events: Sets ----\n",
    "A = {0, 1, 2, 3, 4}\n",
    "B = {3, 4, 5, 6, 7}\n",
    "intersection = A.intersection(B)\n",
    "\n",
    "print(f'- Set A: {A}')\n",
    "print(f'- Set B: {B}')\n",
    "print(f'- Intersection (A ∩ B): {intersection}')"
   ]
  },
  {
   "cell_type": "code",
   "execution_count": 9,
   "id": "ca66747d-315b-48b8-9e96-916325008c4f",
   "metadata": {},
   "outputs": [
    {
     "data": {
      "text/html": [
       "<center><video width=\"600\" autoplay controls loop><source src=\"./videos/10-DependentEvents.mp4\" type=\"video/mp4\" />Your browser does not support the video tag 😢</video></center>"
      ],
      "text/plain": [
       "<IPython.core.display.HTML object>"
      ]
     },
     "execution_count": 9,
     "metadata": {},
     "output_type": "execute_result"
    }
   ],
   "source": [
    "# ---- Dependent Events: Visualization ----\n",
    "HTML(generateVideoEmbed(f'{VIDEOS_PATH}/10-DependentEvents.mp4', VIDEOS_WIDTH))"
   ]
  },
  {
   "cell_type": "markdown",
   "id": "75c8243f-98e2-4040-a893-eeaf5f6de87f",
   "metadata": {},
   "source": [
    "---\n",
    "\n",
    "<h1 id='reach-me' style='color:#7159c1; border-bottom:3px solid #7159c1; letter-spacing:2px; font-family:JetBrains Mono; font-weight: bold; text-align:left; font-size:240%;padding:0'>📫 | Reach Me</h1>\n",
    "\n",
    "> **Email** - [csfelix08@gmail.com](mailto:csfelix08@gmail.com?)\n",
    "\n",
    "> **Linkedin** - [linkedin.com/in/csfelix/](https://www.linkedin.com/in/csfelix/)\n",
    "\n",
    "> **GitHub:** - [CSFelix](https://github.com/CSFelix)\n",
    "\n",
    "> **Kaggle** - [DSFelix](https://www.kaggle.com/dsfelix)\n",
    "\n",
    "> **Portfolio** - [CSFelix.io](https://csfelix.github.io/)."
   ]
  }
 ],
 "metadata": {
  "kernelspec": {
   "display_name": "Python 3 (ipykernel)",
   "language": "python",
   "name": "python3"
  },
  "language_info": {
   "codemirror_mode": {
    "name": "ipython",
    "version": 3
   },
   "file_extension": ".py",
   "mimetype": "text/x-python",
   "name": "python",
   "nbconvert_exporter": "python",
   "pygments_lexer": "ipython3",
   "version": "3.12.7"
  }
 },
 "nbformat": 4,
 "nbformat_minor": 5
}
