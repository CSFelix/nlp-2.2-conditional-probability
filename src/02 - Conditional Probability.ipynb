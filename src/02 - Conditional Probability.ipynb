{
 "cells": [
  {
   "cell_type": "markdown",
   "id": "7496255a-9030-41fb-b9af-79ec47b7b2c1",
   "metadata": {},
   "source": [
    "<center>    \n",
    "    <h1 id='conditional-probability-notebook-3' style='color:#7159c1; font-size:350%'>Conditional Probability</h1>\n",
    "    <i style='font-size:125%'>Calculating Probabilities Through Conditions</i>\n",
    "</center>\n",
    "\n",
    "> **Topics**\n",
    "\n",
    "```\n",
    "- 🎲 Conditional Probability\n",
    "- 🃏 Bayes' Theorem\n",
    "```"
   ]
  },
  {
   "cell_type": "code",
   "execution_count": 2,
   "id": "f7b7c9bd-c9f2-4513-933a-00cb021a92e9",
   "metadata": {},
   "outputs": [],
   "source": [
    "# ---- Imports ----\n",
    "import numpy as np\n",
    "from IPython.display import HTML\n",
    "\n",
    "# ---- Constants ----\n",
    "VIDEOS_WIDTH = (600)\n",
    "VIDEOS_PATH = ('./videos')\n",
    "\n",
    "# ---- Functions ----\n",
    "def generateVideoEmbed(path, width):\n",
    "    \"\"\"\n",
    "    Generates a string containing a centered video tag with a specific width and video source.\n",
    "\n",
    "    - Input:\n",
    "        / path: string;\n",
    "        / width: float.\n",
    "\n",
    "    - Output:\n",
    "        / video_tag: string.\n",
    "    \"\"\"\n",
    "    video_tag = f'<center><video width=\"{width}\" autoplay controls loop><source src=\"{path}\" type=\"video/mp4\" />Your browser does not support the video tag 😢</video></center>'\n",
    "    return video_tag"
   ]
  },
  {
   "cell_type": "markdown",
   "id": "ef6802b9-5c46-41a4-a873-b6151a1781aa",
   "metadata": {},
   "source": [
    "<h1 id='0-conditional-probability' style='color:#7159c1; border-bottom:3px solid #7159c1; letter-spacing:2px; font-family:JetBrains Mono; font-weight: bold; text-align:left; font-size:240%;padding:0'>🎲 | Conditional Probability</h1>"
   ]
  },
  {
   "cell_type": "code",
   "execution_count": null,
   "id": "103b8d8b-3000-496e-8b25-1f730b6f8f9d",
   "metadata": {},
   "outputs": [],
   "source": []
  },
  {
   "cell_type": "code",
   "execution_count": 4,
   "id": "ab236c49-d2c2-488b-a2de-9354caa61f6e",
   "metadata": {},
   "outputs": [
    {
     "data": {
      "text/html": [
       "<center><video width=\"600\" autoplay controls loop><source src=\"./videos/11-ConditionalProbability.mp4\" type=\"video/mp4\" />Your browser does not support the video tag 😢</video></center>"
      ],
      "text/plain": [
       "<IPython.core.display.HTML object>"
      ]
     },
     "execution_count": 4,
     "metadata": {},
     "output_type": "execute_result"
    }
   ],
   "source": [
    "# ---- Conditional Probability: Visualization ----\n",
    "HTML(generateVideoEmbed(f'{VIDEOS_PATH}/11-ConditionalProbability.mp4', VIDEOS_WIDTH))"
   ]
  },
  {
   "cell_type": "markdown",
   "id": "26d09189-11bf-4cae-8a3c-276ed6810a43",
   "metadata": {},
   "source": [
    "<h1 id='1-bayes-theorem' style='color:#7159c1; border-bottom:3px solid #7159c1; letter-spacing:2px; font-family:JetBrains Mono; font-weight: bold; text-align:left; font-size:240%;padding:0'>🃏 | Bayes' Theorem</h1>"
   ]
  },
  {
   "cell_type": "code",
   "execution_count": null,
   "id": "a781d6e3-f759-4405-bcb1-d3c5afa7c220",
   "metadata": {},
   "outputs": [],
   "source": []
  },
  {
   "cell_type": "code",
   "execution_count": 5,
   "id": "5f0c0fbb-38df-4c4e-a420-7c7ed6831c10",
   "metadata": {},
   "outputs": [
    {
     "data": {
      "text/html": [
       "<center><video width=\"600\" autoplay controls loop><source src=\"./videos/12-BayesTheorem.mp4\" type=\"video/mp4\" />Your browser does not support the video tag 😢</video></center>"
      ],
      "text/plain": [
       "<IPython.core.display.HTML object>"
      ]
     },
     "execution_count": 5,
     "metadata": {},
     "output_type": "execute_result"
    }
   ],
   "source": [
    "# ---- Bayes' Theorem: Visualization ----\n",
    "HTML(generateVideoEmbed(f'{VIDEOS_PATH}/12-BayesTheorem.mp4', VIDEOS_WIDTH))"
   ]
  },
  {
   "cell_type": "code",
   "execution_count": null,
   "id": "d44c86cd-edf6-4dad-bd74-ff9b5b423380",
   "metadata": {},
   "outputs": [],
   "source": []
  },
  {
   "cell_type": "code",
   "execution_count": null,
   "id": "dc01cbf4-0d50-4cb5-9e39-8e68f6be2e9f",
   "metadata": {},
   "outputs": [],
   "source": []
  },
  {
   "cell_type": "markdown",
   "id": "83bd6ee6-544d-4774-b84c-63936c516c21",
   "metadata": {},
   "source": [
    "---\n",
    "\n",
    "<h1 id='reach-me' style='color:#7159c1; border-bottom:3px solid #7159c1; letter-spacing:2px; font-family:JetBrains Mono; font-weight: bold; text-align:left; font-size:240%;padding:0'>📫 | Reach Me</h1>\n",
    "\n",
    "> **Email** - [csfelix08@gmail.com](mailto:csfelix08@gmail.com?)\n",
    "\n",
    "> **Linkedin** - [linkedin.com/in/csfelix/](https://www.linkedin.com/in/csfelix/)\n",
    "\n",
    "> **GitHub:** - [CSFelix](https://github.com/CSFelix)\n",
    "\n",
    "> **Kaggle** - [DSFelix](https://www.kaggle.com/dsfelix)\n",
    "\n",
    "> **Portfolio** - [CSFelix.io](https://csfelix.github.io/)."
   ]
  }
 ],
 "metadata": {
  "kernelspec": {
   "display_name": "Python 3 (ipykernel)",
   "language": "python",
   "name": "python3"
  },
  "language_info": {
   "codemirror_mode": {
    "name": "ipython",
    "version": 3
   },
   "file_extension": ".py",
   "mimetype": "text/x-python",
   "name": "python",
   "nbconvert_exporter": "python",
   "pygments_lexer": "ipython3",
   "version": "3.12.7"
  }
 },
 "nbformat": 4,
 "nbformat_minor": 5
}
