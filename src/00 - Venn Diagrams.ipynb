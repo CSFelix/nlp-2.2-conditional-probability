{
 "cells": [
  {
   "cell_type": "markdown",
   "id": "a2467d8b-89ac-403b-b8e7-2e82bcbe3925",
   "metadata": {},
   "source": [
    "<center>    \n",
    "    <h1 id='conditional-probability-notebook-0' style='color:#7159c1; font-size:350%'>Venn Diagrams</h1>\n",
    "    <i style='font-size:125%'>Calculating Probabilities Through Conditions</i>\n",
    "</center>\n",
    "\n",
    "> **Topics**\n",
    "\n",
    "```\n",
    "- ⭕ Intersection\n",
    "- ⭕ Union\n",
    "- ⭕ XOR\n",
    "- ⭕ Not\n",
    "- ⭕ Given\n",
    "```"
   ]
  },
  {
   "cell_type": "code",
   "execution_count": 1,
   "id": "3ded71a7-76cd-400f-97b0-1f5b1914cce2",
   "metadata": {},
   "outputs": [],
   "source": [
    "# ---- Imports ----\n",
    "import numpy as np\n",
    "from IPython.display import HTML\n",
    "\n",
    "# ---- Constants ----\n",
    "VIDEOS_WIDTH = (600)\n",
    "VIDEOS_PATH = ('./videos')\n",
    "\n",
    "# ---- Functions ----\n",
    "def generateVideoEmbed(path, width):\n",
    "    \"\"\"\n",
    "    Generates a string containing a centered video tag with a specific width and video source.\n",
    "\n",
    "    - Input:\n",
    "        / path: string;\n",
    "        / width: float.\n",
    "\n",
    "    - Output:\n",
    "        / video_tag: string.\n",
    "    \"\"\"\n",
    "    video_tag = f'<center><video width=\"{width}\" autoplay controls loop><source src=\"{path}\" type=\"video/mp4\" />Your browser does not support the video tag 😢</video></center>'\n",
    "    return video_tag"
   ]
  },
  {
   "cell_type": "markdown",
   "id": "74951560-a2d9-4dc7-853d-4e676afb60f3",
   "metadata": {},
   "source": [
    "<h1 id='0-intersection' style='color:#7159c1; border-bottom:3px solid #7159c1; letter-spacing:2px; font-family:JetBrains Mono; font-weight: bold; text-align:left; font-size:240%;padding:0'>⭕ | Intersection</h1>\n",
    "\n",
    "`Intersection (∩)` consists of:\n",
    "\n",
    "- **Boolean Logic** - `AND operator`;\n",
    "\n",
    "- **Probabilities** - `probability of two events occur simultaneously or right after the occurrence of one of them (AB)`."
   ]
  },
  {
   "cell_type": "code",
   "execution_count": 2,
   "id": "21e2aee0-301e-44a1-9517-aaf87275473e",
   "metadata": {},
   "outputs": [
    {
     "name": "stdout",
     "output_type": "stream",
     "text": [
      "- Set A: {0, 1, 2, 3, 4}\n",
      "- Set B: {3, 4, 5, 6, 7}\n",
      "- Intersection (A ∩ B): {3, 4}\n"
     ]
    }
   ],
   "source": [
    "# ---- Intersection: Sets ----\n",
    "A = {0, 1, 2, 3, 4}\n",
    "B = {3, 4, 5, 6, 7}\n",
    "intersection = A.intersection(B)\n",
    "\n",
    "print(f'- Set A: {A}')\n",
    "print(f'- Set B: {B}')\n",
    "print(f'- Intersection (A ∩ B): {intersection}')"
   ]
  },
  {
   "cell_type": "code",
   "execution_count": 3,
   "id": "97fe8f4b-92fd-44a1-a6c4-93fee1274ba8",
   "metadata": {},
   "outputs": [
    {
     "data": {
      "text/html": [
       "<center><video width=\"600\" autoplay controls loop><source src=\"./videos/00-VennDiagramAND.mp4\" type=\"video/mp4\" />Your browser does not support the video tag 😢</video></center>"
      ],
      "text/plain": [
       "<IPython.core.display.HTML object>"
      ]
     },
     "execution_count": 3,
     "metadata": {},
     "output_type": "execute_result"
    }
   ],
   "source": [
    "# ---- Intersection: Visualization ----\n",
    "HTML(generateVideoEmbed(f'{VIDEOS_PATH}/00-VennDiagramAND.mp4', VIDEOS_WIDTH))"
   ]
  },
  {
   "cell_type": "markdown",
   "id": "7295c50a-125f-4cca-920b-b90b687ee871",
   "metadata": {},
   "source": [
    "<h1 id='1-union' style='color:#7159c1; border-bottom:3px solid #7159c1; letter-spacing:2px; font-family:JetBrains Mono; font-weight: bold; text-align:left; font-size:240%;padding:0'>⭕ | Union</h1>\n",
    "\n",
    "`Union (∪)` consists of:\n",
    "\n",
    "- **Boolean Logic** - `OR operator`;\n",
    "\n",
    "- **Probabilities** - `probability of at least one of the events to occur (A or B or AB)`."
   ]
  },
  {
   "cell_type": "code",
   "execution_count": 4,
   "id": "983110e9-bb38-44a1-b693-6e1e2e92864b",
   "metadata": {},
   "outputs": [
    {
     "name": "stdout",
     "output_type": "stream",
     "text": [
      "- Set A: {0, 1, 2, 3, 4}\n",
      "- Set B: {3, 4, 5, 6, 7}\n",
      "- Union (A ∪ B): {0, 1, 2, 3, 4, 5, 6, 7}\n"
     ]
    }
   ],
   "source": [
    "# ---- Union: Sets ----\n",
    "A = {0, 1, 2, 3, 4}\n",
    "B = {3, 4, 5, 6, 7}\n",
    "union = A.union(B)\n",
    "\n",
    "print(f'- Set A: {A}')\n",
    "print(f'- Set B: {B}')\n",
    "print(f'- Union (A ∪ B): {union}')"
   ]
  },
  {
   "cell_type": "code",
   "execution_count": 5,
   "id": "f1feaa7c-28b0-478f-ba5f-1f1f0112367c",
   "metadata": {},
   "outputs": [
    {
     "data": {
      "text/html": [
       "<center><video width=\"600\" autoplay controls loop><source src=\"./videos/01-VennDiagramOR.mp4\" type=\"video/mp4\" />Your browser does not support the video tag 😢</video></center>"
      ],
      "text/plain": [
       "<IPython.core.display.HTML object>"
      ]
     },
     "execution_count": 5,
     "metadata": {},
     "output_type": "execute_result"
    }
   ],
   "source": [
    "# ---- Union: Visualization ----\n",
    "HTML(generateVideoEmbed(f'{VIDEOS_PATH}/01-VennDiagramOR.mp4', VIDEOS_WIDTH))"
   ]
  },
  {
   "cell_type": "markdown",
   "id": "25580072-b4f0-4f2f-8d63-dc6b3db34f99",
   "metadata": {},
   "source": [
    "<h1 id='2-xor' style='color:#7159c1; border-bottom:3px solid #7159c1; letter-spacing:2px; font-family:JetBrains Mono; font-weight: bold; text-align:left; font-size:240%;padding:0'>⭕ | XOR</h1>\n",
    "\n",
    "`XOR (⊕)` consists of:\n",
    "\n",
    "- **Boolean Logic** - `XOR operator`;\n",
    "\n",
    "- **Probabilities** - `probability of only one of the events to occur (A or B)`."
   ]
  },
  {
   "cell_type": "code",
   "execution_count": 6,
   "id": "5e2b1bc1-2e28-49c4-86fd-aeae2b697837",
   "metadata": {},
   "outputs": [
    {
     "name": "stdout",
     "output_type": "stream",
     "text": [
      "- Set A: {0, 1, 2, 3, 4}\n",
      "- Set B: {3, 4, 5, 6, 7}\n",
      "- XOR (A ⊕ B): {0, 1, 2, 5, 6, 7}\n"
     ]
    }
   ],
   "source": [
    "# ---- XOR: Sets ----\n",
    "A = {0, 1, 2, 3, 4}\n",
    "B = {3, 4, 5, 6, 7}\n",
    "xor = A.symmetric_difference(B)\n",
    "\n",
    "print(f'- Set A: {A}')\n",
    "print(f'- Set B: {B}')\n",
    "print(f'- XOR (A ⊕ B): {xor}')"
   ]
  },
  {
   "cell_type": "code",
   "execution_count": 7,
   "id": "8e569735-c031-4d15-b7ad-71c833347fa3",
   "metadata": {},
   "outputs": [
    {
     "data": {
      "text/html": [
       "<center><video width=\"600\" autoplay controls loop><source src=\"./videos/02-VennDiagramXOR.mp4\" type=\"video/mp4\" />Your browser does not support the video tag 😢</video></center>"
      ],
      "text/plain": [
       "<IPython.core.display.HTML object>"
      ]
     },
     "execution_count": 7,
     "metadata": {},
     "output_type": "execute_result"
    }
   ],
   "source": [
    "# ---- XOR: Visualization ----\n",
    "HTML(generateVideoEmbed(f'{VIDEOS_PATH}/02-VennDiagramXOR.mp4', VIDEOS_WIDTH))"
   ]
  },
  {
   "cell_type": "markdown",
   "id": "341d8625-06cd-40b4-8461-61a5c6e810dc",
   "metadata": {},
   "source": [
    "<h1 id='3-not' style='color:#7159c1; border-bottom:3px solid #7159c1; letter-spacing:2px; font-family:JetBrains Mono; font-weight: bold; text-align:left; font-size:240%;padding:0'>⭕ | NOT</h1>\n",
    "\n",
    "`NOT (¬)` consists of:\n",
    "\n",
    "- **Boolean Logic** - `NOT operator`;\n",
    "\n",
    "- **Probabilities** - `inverse probability of an event to occur (NOT A or NOT B or NOT AB)`."
   ]
  },
  {
   "cell_type": "code",
   "execution_count": 8,
   "id": "c54e5782-0fa2-47f2-81ea-9a38cae668dc",
   "metadata": {},
   "outputs": [
    {
     "name": "stdout",
     "output_type": "stream",
     "text": [
      "- Set A: {0, 1, 2, 3, 4}\n",
      "- Set B: {3, 4, 5, 6, 7}\n",
      "- NOT (¬A) B: {5, 6, 7}\n"
     ]
    }
   ],
   "source": [
    "# ---- NOT A: Sets ----\n",
    "A = {0, 1, 2, 3, 4}\n",
    "B = {3, 4, 5, 6, 7}\n",
    "not_a = B.difference(A)\n",
    "\n",
    "print(f'- Set A: {A}')\n",
    "print(f'- Set B: {B}')\n",
    "print(f'- NOT (¬A) B: {not_a}')"
   ]
  },
  {
   "cell_type": "code",
   "execution_count": 9,
   "id": "9877eb4f-fbac-4605-8af5-ad706dc582d5",
   "metadata": {},
   "outputs": [
    {
     "data": {
      "text/html": [
       "<center><video width=\"600\" autoplay controls loop><source src=\"./videos/03-VennDiagramNotA.mp4\" type=\"video/mp4\" />Your browser does not support the video tag 😢</video></center>"
      ],
      "text/plain": [
       "<IPython.core.display.HTML object>"
      ]
     },
     "execution_count": 9,
     "metadata": {},
     "output_type": "execute_result"
    }
   ],
   "source": [
    "# ---- NOT A: Visualization ----\n",
    "HTML(generateVideoEmbed(f'{VIDEOS_PATH}/03-VennDiagramNotA.mp4', VIDEOS_WIDTH))"
   ]
  },
  {
   "cell_type": "code",
   "execution_count": 10,
   "id": "fc6ae360-18ec-4b0c-aa30-0bcba182ff8f",
   "metadata": {},
   "outputs": [
    {
     "name": "stdout",
     "output_type": "stream",
     "text": [
      "- Set A: {0, 1, 2, 3, 4}\n",
      "- Set B: {3, 4, 5, 6, 7}\n",
      "- NOT (¬B) A: {0, 1, 2}\n"
     ]
    }
   ],
   "source": [
    "# ---- NOT B: Sets ----\n",
    "A = {0, 1, 2, 3, 4}\n",
    "B = {3, 4, 5, 6, 7}\n",
    "not_b = A.difference(B)\n",
    "\n",
    "print(f'- Set A: {A}')\n",
    "print(f'- Set B: {B}')\n",
    "print(f'- NOT (¬B) A: {not_b}')"
   ]
  },
  {
   "cell_type": "code",
   "execution_count": 11,
   "id": "cb3f14b4-d5cd-4e29-ab33-9ef892b62814",
   "metadata": {},
   "outputs": [
    {
     "data": {
      "text/html": [
       "<center><video width=\"600\" autoplay controls loop><source src=\"./videos/04-VennDiagramNotB.mp4\" type=\"video/mp4\" />Your browser does not support the video tag 😢</video></center>"
      ],
      "text/plain": [
       "<IPython.core.display.HTML object>"
      ]
     },
     "execution_count": 11,
     "metadata": {},
     "output_type": "execute_result"
    }
   ],
   "source": [
    "# ---- NOT B: Visualization ----\n",
    "HTML(generateVideoEmbed(f'{VIDEOS_PATH}/04-VennDiagramNotB.mp4', VIDEOS_WIDTH))"
   ]
  },
  {
   "cell_type": "markdown",
   "id": "1f4fa3cd-bfdb-4574-aca7-9e778e6b3603",
   "metadata": {},
   "source": [
    "<h1 id='4-given' style='color:#7159c1; border-bottom:3px solid #7159c1; letter-spacing:2px; font-family:JetBrains Mono; font-weight: bold; text-align:left; font-size:240%;padding:0'>⭕ | GIVEN</h1>\n",
    "\n",
    "`GIVEN (|)` consists of:\n",
    "\n",
    "- **Boolean Logic** - `GIVEN Conditional operator`;\n",
    "\n",
    "- **Probabilities** - `probability of an event occur given the occurrence of another event [(A|B or B|A) -> they can be read also as (A∩B|B or B∩A|A)]`.\n",
    "\n",
    "**OBS.:** when calculating the results of sets rather than probabilities, the GIVEN operator consists of `intersection ∩ (AND)` operator!!"
   ]
  },
  {
   "cell_type": "code",
   "execution_count": 12,
   "id": "8cab193a-5596-4e1e-99b3-88a4a9c68266",
   "metadata": {},
   "outputs": [
    {
     "name": "stdout",
     "output_type": "stream",
     "text": [
      "- Set A: {0, 1, 2, 3, 4}\n",
      "- Set B: {3, 4, 5, 6, 7}\n",
      "- A GIVEN B (A|B or A∩B|B): {3, 4}\n"
     ]
    }
   ],
   "source": [
    "# ---- A GIVEN B: Sets ----\n",
    "A = {0, 1, 2, 3, 4}\n",
    "B = {3, 4, 5, 6, 7}\n",
    "a_given_b = A.intersection(B)\n",
    "\n",
    "print(f'- Set A: {A}')\n",
    "print(f'- Set B: {B}')\n",
    "print(f'- A GIVEN B (A|B or A∩B|B): {a_given_b}')"
   ]
  },
  {
   "cell_type": "code",
   "execution_count": 13,
   "id": "d104b334-85c8-4df9-8785-429bf5d6b4fe",
   "metadata": {},
   "outputs": [
    {
     "data": {
      "text/html": [
       "<center><video width=\"600\" autoplay controls loop><source src=\"./videos/05-VennDiagramAGivenB.mp4\" type=\"video/mp4\" />Your browser does not support the video tag 😢</video></center>"
      ],
      "text/plain": [
       "<IPython.core.display.HTML object>"
      ]
     },
     "execution_count": 13,
     "metadata": {},
     "output_type": "execute_result"
    }
   ],
   "source": [
    "# ---- A GIVEN B: Visualization ----\n",
    "HTML(generateVideoEmbed(f'{VIDEOS_PATH}/05-VennDiagramAGivenB.mp4', VIDEOS_WIDTH))"
   ]
  },
  {
   "cell_type": "code",
   "execution_count": 14,
   "id": "3c7d4a7c-9daa-49c5-8904-319be1227cd4",
   "metadata": {},
   "outputs": [
    {
     "name": "stdout",
     "output_type": "stream",
     "text": [
      "- Set A: {0, 1, 2, 3, 4}\n",
      "- Set B: {3, 4, 5, 6, 7}\n",
      "- B GIVEN A (B|A or B∩A|A): {3, 4}\n"
     ]
    }
   ],
   "source": [
    "# ---- B GIVEN A: Sets ----\n",
    "A = {0, 1, 2, 3, 4}\n",
    "B = {3, 4, 5, 6, 7}\n",
    "b_given_a = B.intersection(A)\n",
    "\n",
    "print(f'- Set A: {A}')\n",
    "print(f'- Set B: {B}')\n",
    "print(f'- B GIVEN A (B|A or B∩A|A): {b_given_a}')"
   ]
  },
  {
   "cell_type": "code",
   "execution_count": 15,
   "id": "b9438697-be87-4a5e-8baa-e441c2e2f153",
   "metadata": {},
   "outputs": [
    {
     "data": {
      "text/html": [
       "<center><video width=\"600\" autoplay controls loop><source src=\"./videos/06-VennDiagramBGivenA.mp4\" type=\"video/mp4\" />Your browser does not support the video tag 😢</video></center>"
      ],
      "text/plain": [
       "<IPython.core.display.HTML object>"
      ]
     },
     "execution_count": 15,
     "metadata": {},
     "output_type": "execute_result"
    }
   ],
   "source": [
    "# ---- B GIVEN A: Visualization ----\n",
    "HTML(generateVideoEmbed(f'{VIDEOS_PATH}/06-VennDiagramBGivenA.mp4', VIDEOS_WIDTH))"
   ]
  },
  {
   "cell_type": "markdown",
   "id": "9610c4e0-66fa-468f-8633-e6a0b7ba182e",
   "metadata": {},
   "source": [
    "---\n",
    "\n",
    "<h1 id='reach-me' style='color:#7159c1; border-bottom:3px solid #7159c1; letter-spacing:2px; font-family:JetBrains Mono; font-weight: bold; text-align:left; font-size:240%;padding:0'>📫 | Reach Me</h1>\n",
    "\n",
    "> **Email** - [csfelix08@gmail.com](mailto:csfelix08@gmail.com?)\n",
    "\n",
    "> **Linkedin** - [linkedin.com/in/csfelix/](https://www.linkedin.com/in/csfelix/)\n",
    "\n",
    "> **GitHub:** - [CSFelix](https://github.com/CSFelix)\n",
    "\n",
    "> **Kaggle** - [DSFelix](https://www.kaggle.com/dsfelix)\n",
    "\n",
    "> **Portfolio** - [CSFelix.io](https://csfelix.github.io/)."
   ]
  }
 ],
 "metadata": {
  "kernelspec": {
   "display_name": "Python 3 (ipykernel)",
   "language": "python",
   "name": "python3"
  },
  "language_info": {
   "codemirror_mode": {
    "name": "ipython",
    "version": 3
   },
   "file_extension": ".py",
   "mimetype": "text/x-python",
   "name": "python",
   "nbconvert_exporter": "python",
   "pygments_lexer": "ipython3",
   "version": "3.12.7"
  }
 },
 "nbformat": 4,
 "nbformat_minor": 5
}
