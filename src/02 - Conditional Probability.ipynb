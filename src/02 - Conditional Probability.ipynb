{
 "cells": [
  {
   "cell_type": "markdown",
   "id": "7496255a-9030-41fb-b9af-79ec47b7b2c1",
   "metadata": {},
   "source": [
    "<center>    \n",
    "    <h1 id='conditional-probability-notebook-2' style='color:#7159c1; font-size:350%'>Conditional Probability</h1>\n",
    "    <i style='font-size:125%'>Calculating Probabilities Through Conditions</i>\n",
    "</center>\n",
    "\n",
    "> **Topics**\n",
    "\n",
    "```\n",
    "- 🎲 Conditional Probability\n",
    "- 🃏 Bayes' Theorem\n",
    "```"
   ]
  },
  {
   "cell_type": "code",
   "execution_count": 1,
   "id": "f7b7c9bd-c9f2-4513-933a-00cb021a92e9",
   "metadata": {},
   "outputs": [],
   "source": [
    "# ---- Imports ----\n",
    "import numpy as np\n",
    "from IPython.display import HTML\n",
    "\n",
    "# ---- Constants ----\n",
    "VIDEOS_WIDTH = (600)\n",
    "VIDEOS_PATH = ('./videos')\n",
    "\n",
    "# ---- Functions ----\n",
    "def generateVideoEmbed(path, width):\n",
    "    \"\"\"\n",
    "    Generates a string containing a centered video tag with a specific width and video source.\n",
    "\n",
    "    - Input:\n",
    "        / path: string;\n",
    "        / width: float.\n",
    "\n",
    "    - Output:\n",
    "        / video_tag: string.\n",
    "    \"\"\"\n",
    "    video_tag = f'<center><video width=\"{width}\" autoplay controls loop><source src=\"{path}\" type=\"video/mp4\" />Your browser does not support the video tag 😢</video></center>'\n",
    "    return video_tag"
   ]
  },
  {
   "cell_type": "markdown",
   "id": "ef6802b9-5c46-41a4-a873-b6151a1781aa",
   "metadata": {},
   "source": [
    "<h1 id='0-conditional-probability' style='color:#7159c1; border-bottom:3px solid #7159c1; letter-spacing:2px; font-family:JetBrains Mono; font-weight: bold; text-align:left; font-size:240%;padding:0'>🎲 | Conditional Probability</h1>\n",
    "\n",
    "`Conditional Probability` consists of calculating the probability of an event occurrence given the occurrence of another event. It applies the `GIVEN` operator and is commonly applied to `Dependent Events`.\n",
    "\n",
    "To calculate, we simply divide the probability of the `intersection` between the events by the probability of the happened event occurrence:\n",
    "\n",
    "$$\n",
    "\\mathbf{P}(\\mathbf{A} | \\mathbf{B})\n",
    "\\quad \\text{or}\n",
    "\\quad \\mathbf{P}(\\mathbf{A} \\cap \\mathbf{B} | \\mathbf{B}) =\n",
    "    \\frac{\n",
    "        \\mathbf{P}(\\mathbf{A} \\cap \\mathbf{B})\n",
    "    }{\n",
    "        \\mathbf{P}(\\mathbf{B})\n",
    "    }\n",
    "$$\n",
    "\n",
    "$\\mathbf{P}(\\mathbf{A} | \\mathbf{B})$ and $\\mathbf{P}(\\mathbf{A} \\cap \\mathbf{B} | \\mathbf{B})$ represent the same idea. The difference is that the first expression implicitly includes the intersection with event B, while the second makes the intersection explicit, which can make it easier to understand.\n",
    "\n",
    "---\n",
    "\n",
    "In order to get the glimpse of Conditional Probability, let's go to a practical exercise!\n",
    "\n",
    "Consider that I have the following 12 snacks:\n",
    "\n",
    "- 6 juices;\n",
    "- 6 cookies.\n",
    "\n",
    "But among those:\n",
    "\n",
    "- 4 are chocolate;\n",
    "- 8 are strawberry.\n",
    "\n",
    "The table below shows the frequencies of my snacks:\n",
    "\n",
    "| Snack Type | Chocolate | Strawberry | Total |\n",
    "| ---        | ---       | ---        | ---   |\n",
    "| Juice      | 1         | 5          | 6     |\n",
    "| Cookie     | 3         | 3          | 6     |\n",
    "| Total      | 4         | 8          | 12    |\n",
    "\n",
    "Let's calculate the probability of:\n",
    "\n",
    "---\n",
    "\n",
    "#### 1. A snack is chocolate given that it’s a cookie?\n",
    "\n",
    "$$\n",
    "\\begin{array}\n",
    "    \\mathbf{P}(\\text{Chocolate} \\cap \\text{Cookie}) = \\frac{3}{12} \\\\\n",
    "    \\mathbf{P}(\\text{Cookie}) = \\frac{6}{12} \\\\ \\\\\n",
    "    \\big\\downarrow \\\\ \\\\\n",
    "    \\mathbf{P}(\\text{Chocolate} \\cap \\text{Cookie} | \\text{Cookie}) =\n",
    "        \\frac{\\mathbf{P}(\\text{Chocolate} \\cap \\text{Cookie})}{\\text{Cookie}} =\n",
    "        \\frac{3 / 12}{6 / 12} =\n",
    "        \\frac{3}{6} = 0.50\n",
    "\\end{array}\n",
    "$$\n",
    "\n",
    "> There's a **50.00%** chance of a cookie snack be a chocolate!\n",
    "\n",
    "---\n",
    "\n",
    "#### 2. A snack is a cookie given that it is chocolate?\n",
    "\n",
    "$$\n",
    "\\begin{array}\n",
    "    \\mathbf{P}(\\text{Cookie} \\cap \\text{Chocolate}) = \\frac{3}{12} \\\\\n",
    "    \\mathbf{P}(\\text{Chocolate}) = \\frac{4}{12} \\\\ \\\\\n",
    "    \\big\\downarrow \\\\ \\\\\n",
    "    \\mathbf{P}(\\text{Cookie} \\cap \\text{Chocolate} | \\text{Chocolate}) =\n",
    "        \\frac{\\mathbf{P}(\\text{Cookie} \\cap \\text{Chocolate})}{\\text{Chocolate}} =\n",
    "        \\frac{3 / 12}{4 / 12} =\n",
    "        \\frac{3}{4} = 0.75\n",
    "\\end{array}\n",
    "$$\n",
    "\n",
    "> There's a **75.00%** chance of a chocolate snack be a cookie!"
   ]
  },
  {
   "cell_type": "code",
   "execution_count": 2,
   "id": "ab236c49-d2c2-488b-a2de-9354caa61f6e",
   "metadata": {},
   "outputs": [
    {
     "data": {
      "text/html": [
       "<center><video width=\"600\" autoplay controls loop><source src=\"./videos/11-ConditionalProbability.mp4\" type=\"video/mp4\" />Your browser does not support the video tag 😢</video></center>"
      ],
      "text/plain": [
       "<IPython.core.display.HTML object>"
      ]
     },
     "execution_count": 2,
     "metadata": {},
     "output_type": "execute_result"
    }
   ],
   "source": [
    "# ---- Conditional Probability: Visualization ----\n",
    "HTML(generateVideoEmbed(f'{VIDEOS_PATH}/11-ConditionalProbability.mp4', VIDEOS_WIDTH))"
   ]
  },
  {
   "cell_type": "markdown",
   "id": "26d09189-11bf-4cae-8a3c-276ed6810a43",
   "metadata": {},
   "source": [
    "<h1 id='1-bayes-theorem' style='color:#7159c1; border-bottom:3px solid #7159c1; letter-spacing:2px; font-family:JetBrains Mono; font-weight: bold; text-align:left; font-size:240%;padding:0'>🃏 | Bayes' Theorem</h1>\n",
    "\n",
    "`Bayes' Theorem` is an extension of Conditional Probability useful when some conditions are met:\n",
    "\n",
    "- we don't know the frequencies of the snacks;\n",
    "- we know the following probabilities: 1) Probability of a snack be cookie; 2) Probability of a snack be chocolate; 3) Probability of a snack be a cookie given it's a chocolate.\n",
    "\n",
    "You may be wondering: *\"Why cannot I apply Bayes' Theorem when I know the frequencies of the snacks?\"*. Great question! It's because when we know the frequencies, we already have in hands everything we need to calculate the Conditional Probability, so there's no need to make things more complicated!!\n",
    "\n",
    "One more thing, since we don't know the frequencies when using Bayes' Theorem, this one may not return the real probability of the event, but an approximation of it.\n",
    "\n",
    "Bayes' Theorem equation:\n",
    "\n",
    "$$\n",
    "\\mathbf{P}(\\mathbf{A} \\cap \\mathbf{B} | \\mathbf{B}) = \\frac{\\mathbf{P}(\\mathbf{B} \\cap \\mathbf{A} | \\mathbf{A}) \\cdot \\mathbf{P}(\\mathbf{A})}{\\mathbf{P}(\\mathbf{B})}\n",
    "$$\n",
    "\n",
    "---\n",
    "\n",
    "Considering the information:\n",
    "\n",
    "$$\n",
    "\\mathbf{P}(\\text{Chocolate} \\cap \\text{Cookie} | \\text{Cookie}) = 0.50\n",
    "$$\n",
    "\n",
    "$$\n",
    "\\mathbf{P}(\\text{Cookie}) = 0.50\n",
    "$$\n",
    "\n",
    "$$\n",
    "\\mathbf{P}(\\text{Chocolate}) = 0.33\n",
    "$$\n",
    "\n",
    "#### 3. What is the probability of a snack be a cookie given that it is chocolate?\n",
    "\n",
    "$$\n",
    "\\mathbf{P}(\\text{Cookie} \\cap \\text{Chocolate} | \\text{Chocolate}) =\n",
    "\\frac{\n",
    "    \\mathbf{P}(\\text{Chocolate} \\cap \\text{Cookie} | \\text{Cookie}) \\cdot \\mathbf{P}(\\text{Cookie})\n",
    "    }{\n",
    "    \\mathbf{P}(\\text{Chocolate})\n",
    "    } =\n",
    "\\frac{0.50 \\cdot 0.50}{0.33} \\approx 0.75\n",
    "$$\n",
    "\n",
    "> There's a **75.00%** chance of a chocolate snack be a cookie!"
   ]
  },
  {
   "cell_type": "code",
   "execution_count": 3,
   "id": "5f0c0fbb-38df-4c4e-a420-7c7ed6831c10",
   "metadata": {},
   "outputs": [
    {
     "data": {
      "text/html": [
       "<center><video width=\"600\" autoplay controls loop><source src=\"./videos/12-BayesTheorem.mp4\" type=\"video/mp4\" />Your browser does not support the video tag 😢</video></center>"
      ],
      "text/plain": [
       "<IPython.core.display.HTML object>"
      ]
     },
     "execution_count": 3,
     "metadata": {},
     "output_type": "execute_result"
    }
   ],
   "source": [
    "# ---- Bayes' Theorem: Visualization ----\n",
    "HTML(generateVideoEmbed(f'{VIDEOS_PATH}/12-BayesTheorem.mp4', VIDEOS_WIDTH))"
   ]
  },
  {
   "cell_type": "markdown",
   "id": "83bd6ee6-544d-4774-b84c-63936c516c21",
   "metadata": {},
   "source": [
    "---\n",
    "\n",
    "<h1 id='reach-me' style='color:#7159c1; border-bottom:3px solid #7159c1; letter-spacing:2px; font-family:JetBrains Mono; font-weight: bold; text-align:left; font-size:240%;padding:0'>📫 | Reach Me</h1>\n",
    "\n",
    "> **Email** - [csfelix08@gmail.com](mailto:csfelix08@gmail.com?)\n",
    "\n",
    "> **Linkedin** - [linkedin.com/in/csfelix/](https://www.linkedin.com/in/csfelix/)\n",
    "\n",
    "> **GitHub:** - [CSFelix](https://github.com/CSFelix)\n",
    "\n",
    "> **Kaggle** - [DSFelix](https://www.kaggle.com/dsfelix)\n",
    "\n",
    "> **Portfolio** - [CSFelix.io](https://csfelix.github.io/)."
   ]
  }
 ],
 "metadata": {
  "kernelspec": {
   "display_name": "Python 3 (ipykernel)",
   "language": "python",
   "name": "python3"
  },
  "language_info": {
   "codemirror_mode": {
    "name": "ipython",
    "version": 3
   },
   "file_extension": ".py",
   "mimetype": "text/x-python",
   "name": "python",
   "nbconvert_exporter": "python",
   "pygments_lexer": "ipython3",
   "version": "3.12.7"
  }
 },
 "nbformat": 4,
 "nbformat_minor": 5
}
